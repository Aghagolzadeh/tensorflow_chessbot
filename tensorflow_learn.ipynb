{
 "cells": [
  {
   "cell_type": "markdown",
   "metadata": {},
   "source": [
    "# Tensorflow Chessbot Learning Notebook\n",
    "\n",
    "In this notebook we'll train a tensorflow neural network to tell what piece is on a chess square.\n",
    "In the previous notebook we wrote scripts that parsed input images which contained a chessboard into 32x32 grayscale chess squares."
   ]
  },
  {
   "cell_type": "code",
   "execution_count": 1,
   "metadata": {
    "collapsed": false
   },
   "outputs": [],
   "source": [
    "# Init and helper functions\n",
    "import helper_functions as hf\n",
    "import tensorflow as tf\n",
    "import numpy as np\n",
    "import glob"
   ]
  },
  {
   "cell_type": "markdown",
   "metadata": {},
   "source": [
    "Let's load the tiles in for the training and test dataset"
   ]
  },
  {
   "cell_type": "code",
   "execution_count": 2,
   "metadata": {
    "collapsed": false
   },
   "outputs": [
    {
     "name": "stdout",
     "output_type": "stream",
     "text": [
      "Loading 1536 Training tiles\n",
      "On #0/1536 : train_tiles/tiles_lichess_10/lichess_10_E1.png\n",
      "On #100/1536 : train_tiles/tiles_lichess_11/lichess_11_C3.png\n",
      "On #200/1536 : train_tiles/tiles_lichess_29/lichess_29_C1.png\n",
      "On #300/1536 : train_tiles/tiles_lichess_32/lichess_32_E8.png\n",
      "On #400/1536 : train_tiles/tiles_lichess_35/lichess_35_C6.png\n",
      "On #500/1536 : train_tiles/tiles_lichess_15/lichess_15_B3.png\n",
      "On #600/1536 : train_tiles/tiles_lichess_12/lichess_12_C6.png\n",
      "On #700/1536 : train_tiles/tiles_lichess_31/lichess_31_G7.png\n",
      "On #800/1536 : train_tiles/tiles_lichess_27/lichess_27_F3.png\n",
      "On #900/1536 : train_tiles/tiles_lichess_13/lichess_13_H3.png\n",
      "On #1000/1536 : train_tiles/tiles_lichess_18/lichess_18_H6.png\n",
      "On #1100/1536 : train_tiles/tiles_lichess_16/lichess_16_D3.png\n",
      "On #1200/1536 : train_tiles/tiles_lichess_14/lichess_14_G1.png\n",
      "On #1300/1536 : train_tiles/tiles_lichess_26/lichess_26_F6.png\n",
      "On #1400/1536 : train_tiles/tiles_lichess_28/lichess_28_F2.png\n",
      "On #1500/1536 : train_tiles/tiles_lichess_30/lichess_30_B6.png\n",
      "Loading 320 Training tiles\n",
      "On #0/320 : test_tiles/tiles_lichess_2/lichess_2_C7.png\n",
      "On #100/320 : test_tiles/tiles_lichess_1/lichess_1_A7.png\n",
      "On #200/320 : test_tiles/tiles_lichess_4/lichess_4_F3.png\n",
      "On #300/320 : test_tiles/tiles_lichess_3/lichess_3_A2.png\n"
     ]
    }
   ],
   "source": [
    "# All lichess tiles with pieces in starting position\n",
    "train_paths = np.array(glob.glob(\"train_tiles/tiles_lichess_*/*.png\"))\n",
    "test_paths = np.array(glob.glob(\"test_tiles/tiles_lichess_*/*.png\"))\n",
    "\n",
    "# Training dataset\n",
    "# Order of inputs must be the same for both images and labels\n",
    "print \"Loading %d Training tiles\" % train_paths.size\n",
    "train_images = hf.loadImages(train_paths)\n",
    "train_labels = hf.loadLabels(train_paths)\n",
    "\n",
    "print \"Loading %d Training tiles\" % test_paths.size\n",
    "test_images = hf.loadImages(test_paths)\n",
    "test_labels = hf.loadLabels(test_paths)\n",
    "\n",
    "train_dataset = hf.DataSet(train_images, train_labels, dtype=tf.float32)\n",
    "test_dataset = hf.DataSet(test_images, test_labels, dtype=tf.float32)"
   ]
  },
  {
   "cell_type": "markdown",
   "metadata": {},
   "source": [
    "Cool, lets look at a few images in the training set"
   ]
  },
  {
   "cell_type": "code",
   "execution_count": 3,
   "metadata": {
    "collapsed": false
   },
   "outputs": [
    {
     "name": "stdout",
     "output_type": "stream",
     "text": [
      "0: Piece(K) : [ 0.  1.  0.  0.  0.  0.  0.  0.  0.  0.  0.  0.  0.]\n"
     ]
    },
    {
     "data": {
      "image/jpeg": "[encoded data removed]",
      "text/plain": [
       "<IPython.core.display.Image object>"
      ]
     },
     "metadata": {},
     "output_type": "display_data"
    },
    {
     "name": "stdout",
     "output_type": "stream",
     "text": [
      "1: Piece(r) : [ 0.  0.  0.  0.  0.  0.  0.  0.  0.  1.  0.  0.  0.]\n"
     ]
    },
    {
     "data": {
      "image/jpeg": "[encoded data removed]",
      "text/plain": [
       "<IPython.core.display.Image object>"
      ]
     },
     "metadata": {},
     "output_type": "display_data"
    },
    {
     "name": "stdout",
     "output_type": "stream",
     "text": [
      "2: Piece(n) : [ 0.  0.  0.  0.  0.  0.  0.  0.  0.  0.  0.  1.  0.]\n"
     ]
    },
    {
     "data": {
      "image/jpeg": "[encoded data removed]",
      "text/plain": [
       "<IPython.core.display.Image object>"
      ]
     },
     "metadata": {},
     "output_type": "display_data"
    },
    {
     "name": "stdout",
     "output_type": "stream",
     "text": [
      "3: Piece( ) : [ 1.  0.  0.  0.  0.  0.  0.  0.  0.  0.  0.  0.  0.]\n"
     ]
    },
    {
     "data": {
      "image/jpeg": "[encoded data removed]",
      "text/plain": [
       "<IPython.core.display.Image object>"
      ]
     },
     "metadata": {},
     "output_type": "display_data"
    },
    {
     "name": "stdout",
     "output_type": "stream",
     "text": [
      "4: Piece( ) : [ 1.  0.  0.  0.  0.  0.  0.  0.  0.  0.  0.  0.  0.]\n"
     ]
    },
    {
     "data": {
      "image/jpeg": "[encoded data removed]",
      "text/plain": [
       "<IPython.core.display.Image object>"
      ]
     },
     "metadata": {},
     "output_type": "display_data"
    },
    {
     "name": "stdout",
     "output_type": "stream",
     "text": [
      "Some black knights\n",
      "2: Piece(n) : [ 0.  0.  0.  0.  0.  0.  0.  0.  0.  0.  0.  1.  0.]\n"
     ]
    },
    {
     "data": {
      "image/jpeg": "[encoded data removed]",
      "text/plain": [
       "<IPython.core.display.Image object>"
      ]
     },
     "metadata": {},
     "output_type": "display_data"
    },
    {
     "name": "stdout",
     "output_type": "stream",
     "text": [
      "21: Piece(n) : [ 0.  0.  0.  0.  0.  0.  0.  0.  0.  0.  0.  1.  0.]\n"
     ]
    },
    {
     "data": {
      "image/jpeg": "[encoded data removed]",
      "text/plain": [
       "<IPython.core.display.Image object>"
      ]
     },
     "metadata": {},
     "output_type": "display_data"
    },
    {
     "name": "stdout",
     "output_type": "stream",
     "text": [
      "84: Piece(n) : [ 0.  0.  0.  0.  0.  0.  0.  0.  0.  0.  0.  1.  0.]\n"
     ]
    },
    {
     "data": {
      "image/jpeg": "[encoded data removed]",
      "text/plain": [
       "<IPython.core.display.Image object>"
      ]
     },
     "metadata": {},
     "output_type": "display_data"
    },
    {
     "name": "stdout",
     "output_type": "stream",
     "text": [
      "106: Piece(n) : [ 0.  0.  0.  0.  0.  0.  0.  0.  0.  0.  0.  1.  0.]\n"
     ]
    },
    {
     "data": {
      "image/jpeg": "[encoded data removed]",
      "text/plain": [
       "<IPython.core.display.Image object>"
      ]
     },
     "metadata": {},
     "output_type": "display_data"
    },
    {
     "name": "stdout",
     "output_type": "stream",
     "text": [
      "164: Piece(n) : [ 0.  0.  0.  0.  0.  0.  0.  0.  0.  0.  0.  1.  0.]\n"
     ]
    },
    {
     "data": {
      "image/jpeg": "[encoded data removed]",
      "text/plain": [
       "<IPython.core.display.Image object>"
      ]
     },
     "metadata": {},
     "output_type": "display_data"
    },
    {
     "name": "stdout",
     "output_type": "stream",
     "text": [
      "181: Piece(n) : [ 0.  0.  0.  0.  0.  0.  0.  0.  0.  0.  0.  1.  0.]\n"
     ]
    },
    {
     "data": {
      "image/jpeg": "[encoded data removed]",
      "text/plain": [
       "<IPython.core.display.Image object>"
      ]
     },
     "metadata": {},
     "output_type": "display_data"
    }
   ],
   "source": [
    "# Visualize a couple tiles\n",
    "for i in range(5):\n",
    "    print \"%d: Piece(%s) : %s\" % (i, hf.label2Name(train_dataset.labels[i]), train_dataset.labels[i])\n",
    "    hf.display_array(np.reshape(train_dataset.images[i,:],[32,32]))\n",
    "\n",
    "print \"Some black knights\"\n",
    "for i in range(200):\n",
    "    if hf.label2Name(train_dataset.labels[i]) is 'n': # n = Black Knight\n",
    "        print \"%d: Piece(%s) : %s\" % (i, hf.label2Name(train_dataset.labels[i]), train_dataset.labels[i])\n",
    "        hf.display_array(np.reshape(train_dataset.images[i,:],[32,32]))"
   ]
  },
  {
   "cell_type": "markdown",
   "metadata": {},
   "source": [
    "Looks good. Now that we've loaded the data, let's build up a simple softmax regression classifier based off of [this beginner tutorial](https://www.tensorflow.org/versions/v0.6.0/tutorials/mnist/beginners/index.html) on tensorflow."
   ]
  },
  {
   "cell_type": "code",
   "execution_count": 4,
   "metadata": {
    "collapsed": false
   },
   "outputs": [
    {
     "name": "stdout",
     "output_type": "stream",
     "text": [
      "Training for 1000 steps...\n",
      "\t200/1000\n",
      "\t400/1000\n",
      "\t600/1000\n",
      "\t800/1000\n",
      "\t1000/1000\n",
      "Finished training.\n"
     ]
    }
   ],
   "source": [
    "import tensorflow as tf\n",
    "\n",
    "x = tf.placeholder(tf.float32, [None, 32*32])\n",
    "W = tf.Variable(tf.zeros([32*32, 13]))\n",
    "b = tf.Variable(tf.zeros([13]))\n",
    "\n",
    "y = tf.nn.softmax(tf.matmul(x, W) + b)\n",
    "y_ = tf.placeholder(tf.float32, [None, 13])\n",
    "\n",
    "cross_entropy = -tf.reduce_sum(y_*tf.log(y))\n",
    "\n",
    "train_step = tf.train.GradientDescentOptimizer(0.001).minimize(cross_entropy)\n",
    "\n",
    "init = tf.initialize_all_variables()\n",
    "\n",
    "\n",
    "sess = tf.Session()\n",
    "sess.run(init)\n",
    "\n",
    "N = 1000\n",
    "print \"Training for %d steps...\" % N\n",
    "for i in range(N):\n",
    "    batch_xs, batch_ys = train_dataset.next_batch(100)\n",
    "    sess.run(train_step, feed_dict={x: batch_xs, y_: batch_ys})\n",
    "    if ((i+1) % 200) == 0:\n",
    "        print \"\\t%d/%d\" % (i+1, N)\n",
    "print \"Finished training.\""
   ]
  },
  {
   "cell_type": "code",
   "execution_count": 5,
   "metadata": {
    "collapsed": false
   },
   "outputs": [
    {
     "name": "stdout",
     "output_type": "stream",
     "text": [
      "Accuracy: 0.9875\n",
      "\n"
     ]
    }
   ],
   "source": [
    "correct_prediction = tf.equal(tf.argmax(y,1), tf.argmax(y_,1))\n",
    "accuracy = tf.reduce_mean(tf.cast(correct_prediction, \"float\"))\n",
    "print \"Accuracy: %g\\n\" % sess.run(accuracy, feed_dict={x: test_dataset.images, y_: test_dataset.labels})"
   ]
  },
  {
   "cell_type": "markdown",
   "metadata": {},
   "source": [
    "Woot! Around 98% accurate for this simple set, let's look at the weights to get an idea of what it sees for each piece."
   ]
  },
  {
   "cell_type": "code",
   "execution_count": 6,
   "metadata": {
    "collapsed": false
   },
   "outputs": [
    {
     "name": "stdout",
     "output_type": "stream",
     "text": [
      "Visualization of Weights as negative(Red) to positive(Blue)\n",
      "Piece:  \n"
     ]
    },
    {
     "data": {
      "image/jpeg": "[encoded data removed]",
      "text/plain": [
       "<IPython.core.display.Image object>"
      ]
     },
     "metadata": {
      "image/jpeg": {
       "width": 50
      }
     },
     "output_type": "display_data"
    },
    {
     "name": "stdout",
     "output_type": "stream",
     "text": [
      "Piece: K\n"
     ]
    },
    {
     "data": {
      "image/jpeg": "[encoded data removed]",
      "text/plain": [
       "<IPython.core.display.Image object>"
      ]
     },
     "metadata": {
      "image/jpeg": {
       "width": 50
      }
     },
     "output_type": "display_data"
    },
    {
     "name": "stdout",
     "output_type": "stream",
     "text": [
      "Piece: Q\n"
     ]
    },
    {
     "data": {
      "image/jpeg": "[encoded data removed]",
      "text/plain": [
       "<IPython.core.display.Image object>"
      ]
     },
     "metadata": {
      "image/jpeg": {
       "width": 50
      }
     },
     "output_type": "display_data"
    },
    {
     "name": "stdout",
     "output_type": "stream",
     "text": [
      "Piece: R\n"
     ]
    },
    {
     "data": {
      "image/jpeg": "[encoded data removed]",
      "text/plain": [
       "<IPython.core.display.Image object>"
      ]
     },
     "metadata": {
      "image/jpeg": {
       "width": 50
      }
     },
     "output_type": "display_data"
    },
    {
     "name": "stdout",
     "output_type": "stream",
     "text": [
      "Piece: B\n"
     ]
    },
    {
     "data": {
      "image/jpeg": "[encoded data removed]",
      "text/plain": [
       "<IPython.core.display.Image object>"
      ]
     },
     "metadata": {
      "image/jpeg": {
       "width": 50
      }
     },
     "output_type": "display_data"
    },
    {
     "name": "stdout",
     "output_type": "stream",
     "text": [
      "Piece: N\n"
     ]
    },
    {
     "data": {
      "image/jpeg": "[encoded data removed]",
      "text/plain": [
       "<IPython.core.display.Image object>"
      ]
     },
     "metadata": {
      "image/jpeg": {
       "width": 50
      }
     },
     "output_type": "display_data"
    },
    {
     "name": "stdout",
     "output_type": "stream",
     "text": [
      "Piece: P\n"
     ]
    },
    {
     "data": {
      "image/jpeg": "[encoded data removed]",
      "text/plain": [
       "<IPython.core.display.Image object>"
      ]
     },
     "metadata": {
      "image/jpeg": {
       "width": 50
      }
     },
     "output_type": "display_data"
    },
    {
     "name": "stdout",
     "output_type": "stream",
     "text": [
      "Piece: k\n"
     ]
    },
    {
     "data": {
      "image/jpeg": "[encoded data removed]",
      "text/plain": [
       "<IPython.core.display.Image object>"
      ]
     },
     "metadata": {
      "image/jpeg": {
       "width": 50
      }
     },
     "output_type": "display_data"
    },
    {
     "name": "stdout",
     "output_type": "stream",
     "text": [
      "Piece: q\n"
     ]
    },
    {
     "data": {
      "image/jpeg": "[encoded data removed]",
      "text/plain": [
       "<IPython.core.display.Image object>"
      ]
     },
     "metadata": {
      "image/jpeg": {
       "width": 50
      }
     },
     "output_type": "display_data"
    },
    {
     "name": "stdout",
     "output_type": "stream",
     "text": [
      "Piece: r\n"
     ]
    },
    {
     "data": {
      "image/jpeg": "[encoded data removed]",
      "text/plain": [
       "<IPython.core.display.Image object>"
      ]
     },
     "metadata": {
      "image/jpeg": {
       "width": 50
      }
     },
     "output_type": "display_data"
    },
    {
     "name": "stdout",
     "output_type": "stream",
     "text": [
      "Piece: b\n"
     ]
    },
    {
     "data": {
      "image/jpeg": "[encoded data removed]",
      "text/plain": [
       "<IPython.core.display.Image object>"
      ]
     },
     "metadata": {
      "image/jpeg": {
       "width": 50
      }
     },
     "output_type": "display_data"
    },
    {
     "name": "stdout",
     "output_type": "stream",
     "text": [
      "Piece: n\n"
     ]
    },
    {
     "data": {
      "image/jpeg": "[encoded data removed]",
      "text/plain": [
       "<IPython.core.display.Image object>"
      ]
     },
     "metadata": {
      "image/jpeg": {
       "width": 50
      }
     },
     "output_type": "display_data"
    },
    {
     "name": "stdout",
     "output_type": "stream",
     "text": [
      "Piece: p\n"
     ]
    },
    {
     "data": {
      "image/jpeg": "[encoded data removed]",
      "text/plain": [
       "<IPython.core.display.Image object>"
      ]
     },
     "metadata": {
      "image/jpeg": {
       "width": 50
      }
     },
     "output_type": "display_data"
    }
   ],
   "source": [
    "print \"Visualization of Weights as negative(Red) to positive(Blue)\"\n",
    "for i in range(13):\n",
    "    print \"Piece: %s\" % hf.labelIndex2Name(i)\n",
    "    piece_weight = np.reshape(sess.run(W)[:,i], [32,32])\n",
    "    hf.display_weight(piece_weight,rng=[-0.2,0.2])"
   ]
  },
  {
   "cell_type": "markdown",
   "metadata": {},
   "source": [
    "Cool, you can see the shapes show up within the weights. Let's have a look at the failure cases to get a sense of what went wrong. TODO..."
   ]
  }
 ],
 "metadata": {
  "kernelspec": {
   "display_name": "Python 2",
   "language": "python",
   "name": "python2"
  },
  "language_info": {
   "codemirror_mode": {
    "name": "ipython",
    "version": 2
   },
   "file_extension": ".py",
   "mimetype": "text/x-python",
   "name": "python",
   "nbconvert_exporter": "python",
   "pygments_lexer": "ipython2",
   "version": "2.7.6"
  }
 },
 "nbformat": 4,
 "nbformat_minor": 0
}
